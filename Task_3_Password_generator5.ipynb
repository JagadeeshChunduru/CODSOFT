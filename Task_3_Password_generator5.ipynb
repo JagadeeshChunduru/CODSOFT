{
  "nbformat": 4,
  "nbformat_minor": 0,
  "metadata": {
    "colab": {
      "provenance": [],
      "authorship_tag": "ABX9TyNtlN/CvBeeFsvM2cV9gNbP",
      "include_colab_link": true
    },
    "kernelspec": {
      "name": "python3",
      "display_name": "Python 3"
    },
    "language_info": {
      "name": "python"
    }
  },
  "cells": [
    {
      "cell_type": "markdown",
      "metadata": {
        "id": "view-in-github",
        "colab_type": "text"
      },
      "source": [
        "<a href=\"https://colab.research.google.com/github/JagadeeshChunduru/CODSOFT/blob/main/Task_3_Password_generator5.ipynb\" target=\"_parent\"><img src=\"https://colab.research.google.com/assets/colab-badge.svg\" alt=\"Open In Colab\"/></a>"
      ]
    },
    {
      "cell_type": "code",
      "execution_count": 1,
      "metadata": {
        "colab": {
          "base_uri": "https://localhost:8080/"
        },
        "id": "cq8VO9CpLuRT",
        "outputId": "94f0e4ea-592c-428a-8650-a501fe163db2"
      },
      "outputs": [
        {
          "output_type": "stream",
          "name": "stdout",
          "text": [
            "Enter the desired password length: 5\n",
            "Include digits? (yes/no): yes\n",
            "Include special characters? (yes/no): no\n",
            "Generated Password: prvaU\n"
          ]
        }
      ],
      "source": [
        "import random\n",
        "import string\n",
        "\n",
        "def generate_password(length=12, use_digits=True, use_special_chars=True):\n",
        "    # Define character sets\n",
        "    lowercase_chars = string.ascii_lowercase\n",
        "    uppercase_chars = string.ascii_uppercase\n",
        "    digit_chars = string.digits if use_digits else ''\n",
        "    special_chars = string.punctuation if use_special_chars else ''\n",
        "\n",
        "    # Combine character sets based on user preferences\n",
        "    all_chars = lowercase_chars + uppercase_chars + digit_chars + special_chars\n",
        "\n",
        "    # Check if the character set is empty\n",
        "    if not all_chars:\n",
        "        return \"Cannot generate a password with the specified constraints.\"\n",
        "\n",
        "    # Generate the password\n",
        "    password = ''.join(random.choice(all_chars) for _ in range(length))\n",
        "    return password\n",
        "\n",
        "# Get user preferences for password generation\n",
        "length = int(input(\"Enter the desired password length: \"))\n",
        "use_digits = input(\"Include digits? (yes/no): \").lower() == \"yes\"\n",
        "use_special_chars = input(\"Include special characters? (yes/no): \").lower() == \"yes\"\n",
        "\n",
        "# Generate and print the password\n",
        "password = generate_password(length, use_digits, use_special_chars)\n",
        "print(\"Generated Password:\", password)"
      ]
    }
  ]
}