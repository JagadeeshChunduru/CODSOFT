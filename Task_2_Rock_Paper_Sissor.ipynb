{
  "nbformat": 4,
  "nbformat_minor": 0,
  "metadata": {
    "colab": {
      "provenance": [],
      "authorship_tag": "ABX9TyPtOdTQ5j4Nz03dlhbKS5AM",
      "include_colab_link": true
    },
    "kernelspec": {
      "name": "python3",
      "display_name": "Python 3"
    },
    "language_info": {
      "name": "python"
    }
  },
  "cells": [
    {
      "cell_type": "markdown",
      "metadata": {
        "id": "view-in-github",
        "colab_type": "text"
      },
      "source": [
        "<a href=\"https://colab.research.google.com/github/JagadeeshChunduru/CODSOFT/blob/main/Task_2_Rock_Paper_Sissor.ipynb\" target=\"_parent\"><img src=\"https://colab.research.google.com/assets/colab-badge.svg\" alt=\"Open In Colab\"/></a>"
      ]
    },
    {
      "cell_type": "code",
      "execution_count": null,
      "metadata": {
        "colab": {
          "base_uri": "https://localhost:8080/"
        },
        "id": "j5ZA4GyXK-th",
        "outputId": "e880250b-2a30-4a03-a100-677081214a17"
      },
      "outputs": [
        {
          "output_type": "stream",
          "name": "stdout",
          "text": [
            "Choose Rock, Paper, or Scissors: Rock\n",
            "You chose rock.\n",
            "Computer chose rock.\n",
            "It's a tie!\n",
            "Do you want to play again? (yes/no): yes\n",
            "Choose Rock, Paper, or Scissors: Paper\n",
            "You chose paper.\n",
            "Computer chose paper.\n",
            "It's a tie!\n",
            "Do you want to play again? (yes/no): yes\n",
            "Choose Rock, Paper, or Scissors: Rock\n",
            "You chose rock.\n",
            "Computer chose rock.\n",
            "It's a tie!\n"
          ]
        }
      ],
      "source": [
        "import random\n",
        "\n",
        "\n",
        "def get_user_choice():\n",
        "    while True:\n",
        "        user_choice = input(\"Choose Rock, Paper, or Scissors: \").strip().lower()\n",
        "        if user_choice in (\"rock\", \"paper\", \"scissors\"):\n",
        "            return user_choice\n",
        "        else:\n",
        "            print(\"Invalid choice. Please choose Rock, Paper, or Scissors.\")\n",
        "\n",
        "\n",
        "def get_computer_choice():\n",
        "    return random.choice([\"rock\", \"paper\", \"scissors\"])\n",
        "\n",
        "\n",
        "def determine_winner(user_choice, computer_choice):\n",
        "    if user_choice == computer_choice:\n",
        "        return \"It's a tie!\"\n",
        "    elif (user_choice == \"rock\" and computer_choice == \"scissors\") or \\\n",
        "            (user_choice == \"paper\" and computer_choice == \"rock\") or \\\n",
        "            (user_choice == \"scissors\" and computer_choice == \"paper\"):\n",
        "        return \"You win!\"\n",
        "    else:\n",
        "        return \"Computer wins!\"\n",
        "\n",
        "\n",
        "while True:\n",
        "    user_choice = get_user_choice()\n",
        "    computer_choice = get_computer_choice()\n",
        "    print(f\"You chose {user_choice}.\")\n",
        "    print(f\"Computer chose {computer_choice}.\")\n",
        "\n",
        "    result = determine_winner(user_choice, computer_choice)\n",
        "    print(result)\n",
        "\n",
        "    play_again = input(\"Do you want to play again? (yes/no): \").strip().lower()\n",
        "    if play_again != \"yes\":\n",
        "        break"
      ]
    }
  ]
}