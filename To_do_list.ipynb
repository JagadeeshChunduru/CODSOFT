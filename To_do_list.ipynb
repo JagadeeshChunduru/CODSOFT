{
  "nbformat": 4,
  "nbformat_minor": 0,
  "metadata": {
    "colab": {
      "provenance": [],
      "authorship_tag": "ABX9TyMVyw+WCAx3gILza3Y00zAg",
      "include_colab_link": true
    },
    "kernelspec": {
      "name": "python3",
      "display_name": "Python 3"
    },
    "language_info": {
      "name": "python"
    }
  },
  "cells": [
    {
      "cell_type": "markdown",
      "metadata": {
        "id": "view-in-github",
        "colab_type": "text"
      },
      "source": [
        "<a href=\"https://colab.research.google.com/github/JagadeeshChunduru/CODSOFT/blob/main/To_do_list.ipynb\" target=\"_parent\"><img src=\"https://colab.research.google.com/assets/colab-badge.svg\" alt=\"Open In Colab\"/></a>"
      ]
    },
    {
      "cell_type": "code",
      "execution_count": null,
      "metadata": {
        "colab": {
          "base_uri": "https://localhost:8080/"
        },
        "id": "VpSBt476KVol",
        "outputId": "1548036b-30f4-480e-d302-c5e99a29ae54"
      },
      "outputs": [
        {
          "output_type": "stream",
          "name": "stdout",
          "text": [
            "\n",
            "Options:\n",
            "1. Add a task\n",
            "2. Remove a task\n",
            "3. Display tasks\n",
            "4. Quit\n",
            "Enter your choice (1/2/3/4): 3\n",
            "The to-do list is empty.\n",
            "\n",
            "Options:\n",
            "1. Add a task\n",
            "2. Remove a task\n",
            "3. Display tasks\n",
            "4. Quit\n",
            "Enter your choice (1/2/3/4): 1\n",
            "Enter the task to add: 3\n",
            "Task '3' added to the to-do list.\n",
            "\n",
            "Options:\n",
            "1. Add a task\n",
            "2. Remove a task\n",
            "3. Display tasks\n",
            "4. Quit\n"
          ]
        }
      ],
      "source": [
        "tasks = []\n",
        "\n",
        "def add_task(task):\n",
        "    tasks.append(task)\n",
        "    print(f\"Task '{task}' added to the to-do list.\")\n",
        "\n",
        "\n",
        "def remove_task(task):\n",
        "    if task in tasks:\n",
        "        tasks.remove(task)\n",
        "        print(f\"Task '{task}' removed from the to-do list.\")\n",
        "    else:\n",
        "        print(f\"Task '{task}' not found in the to-do list.\")\n",
        "\n",
        "\n",
        "def display_tasks():\n",
        "    if not tasks:\n",
        "        print(\"The to-do list is empty.\")\n",
        "    else:\n",
        "        print(\"To-Do List:\")\n",
        "        for index, task in enumerate(tasks, start=1):\n",
        "            print(f\"{index}. {task}\")\n",
        "\n",
        "\n",
        "while True:\n",
        "    print(\"\\nOptions:\")\n",
        "    print(\"1. Add a task\")\n",
        "    print(\"2. Remove a task\")\n",
        "    print(\"3. Display tasks\")\n",
        "    print(\"4. Quit\")\n",
        "\n",
        "    choice = input(\"Enter your choice (1/2/3/4): \")\n",
        "\n",
        "    if choice == '1':\n",
        "        task = input(\"Enter the task to add: \")\n",
        "        add_task(task)\n",
        "    elif choice == '2':\n",
        "        task = input(\"Enter the task to remove: \")\n",
        "        remove_task(task)\n",
        "    elif choice == '3':\n",
        "        display_tasks()\n",
        "    elif choice == '4':\n",
        "        print(\"Goodbye!\")\n",
        "        break\n",
        "    else:\n",
        "        print(\"Invalid choice. Please select a valid option (1/2/3/4).\")"
      ]
    }
  ]
}